{
 "cells": [
  {
   "cell_type": "code",
   "execution_count": 12,
   "id": "a6dfac58-645f-4898-850a-b64783ed7d68",
   "metadata": {},
   "outputs": [
    {
     "name": "stdout",
     "output_type": "stream",
     "text": [
      "Before Swapping  x =  12 y =  24\n",
      "After Swapping  x =  24 y =  12\n"
     ]
    }
   ],
   "source": [
    "# Swapping two numbers without using any temporary variable\n",
    "\n",
    "x = 12\n",
    "y = 24 \n",
    "print (\"Before Swapping  x = \" , x , \"y = \" , y)\n",
    "x = 24\n",
    "y = 12\n",
    "print (\"After Swapping  x = \" , x , \"y = \" , y)\n"
   ]
  },
  {
   "cell_type": "code",
   "execution_count": 14,
   "id": "e3abaff8-a4e8-4f6d-b1af-7faf3e7ef539",
   "metadata": {},
   "outputs": [
    {
     "name": "stdin",
     "output_type": "stream",
     "text": [
      " 12\n",
      " 2\n"
     ]
    },
    {
     "name": "stdout",
     "output_type": "stream",
     "text": [
      "Area of rectangle =  24 cm\n"
     ]
    }
   ],
   "source": [
    "# To find the Area of a rectangle \n",
    "length = int(input())\n",
    "breadth = int(input())\n",
    "area = length * breadth\n",
    "print(\"Area of rectangle = \",area , \"cm\")"
   ]
  },
  {
   "cell_type": "code",
   "execution_count": 17,
   "id": "d694589e-3e68-4afb-8a66-746e32422b3c",
   "metadata": {},
   "outputs": [
    {
     "name": "stdout",
     "output_type": "stream",
     "text": [
      "Enter the temperature below in Celsius = \n"
     ]
    },
    {
     "name": "stdin",
     "output_type": "stream",
     "text": [
      " 100\n"
     ]
    },
    {
     "name": "stdout",
     "output_type": "stream",
     "text": [
      "100.0  =  212.0 F\n"
     ]
    }
   ],
   "source": [
    "# Converting temperature from Celsius to Fahrenheit\n",
    "\n",
    "print(\"Enter the temperature below in Celsius = \")\n",
    "tempin_celsius  = float(input())\n",
    "formula = (tempin_celsius * 9/5) + 32 \n",
    "print(tempin_celsius , \" = \", formula , \"F\")"
   ]
  },
  {
   "cell_type": "code",
   "execution_count": 23,
   "id": "5a994aba-a185-44c6-b471-630b27071735",
   "metadata": {},
   "outputs": [
    {
     "name": "stdin",
     "output_type": "stream",
     "text": [
      " My name is Varun Dinesh Patil\n"
     ]
    },
    {
     "name": "stdout",
     "output_type": "stream",
     "text": [
      "Total lenght of characters  =  29\n"
     ]
    }
   ],
   "source": [
    "# Program that counts the length of the STRING\n",
    "\n",
    "mystring = input()\n",
    "print( \"Total lenght of characters  = \",len(mystring))\n"
   ]
  },
  {
   "cell_type": "code",
   "execution_count": 41,
   "id": "c74a9b22-ebe7-41ea-9372-ea16f75b2a47",
   "metadata": {},
   "outputs": [
    {
     "name": "stdin",
     "output_type": "stream",
     "text": [
      " Varun\n"
     ]
    },
    {
     "name": "stdout",
     "output_type": "stream",
     "text": [
      "2\n"
     ]
    }
   ],
   "source": [
    "# To count the number of times vowels appear\n",
    "\n",
    "mystring1 = input()\n",
    "vowels = \"aeiouAEIOU\"\n",
    "\n",
    "check = sum(mystring1.count(i) for i in vowels)\n",
    "print(check)\n"
   ]
  },
  {
   "cell_type": "code",
   "execution_count": 3,
   "id": "3a3c5eed-822a-4124-a667-e4137a60733d",
   "metadata": {},
   "outputs": [
    {
     "data": {
      "text/plain": [
       "'ecneuqes'"
      ]
     },
     "execution_count": 3,
     "metadata": {},
     "output_type": "execute_result"
    }
   ],
   "source": [
    "# To reverse the order of the characters\n",
    "\n",
    "mystring2 = \"sequence\"\n",
    "mystring2[::-1]\n"
   ]
  },
  {
   "cell_type": "code",
   "execution_count": 5,
   "id": "d833cad6-2cc8-4775-b259-f058336f43d8",
   "metadata": {},
   "outputs": [
    {
     "name": "stdout",
     "output_type": "stream",
     "text": [
      "Please enter the string\n"
     ]
    },
    {
     "name": "stdin",
     "output_type": "stream",
     "text": [
      " abc\n"
     ]
    },
    {
     "name": "stdout",
     "output_type": "stream",
     "text": [
      "It is not a palindrome\n"
     ]
    }
   ],
   "source": [
    "# To check whether the entered string is a palindrome or not\n",
    "\n",
    "print(\"Please enter the string\")\n",
    "mystring3 = input()\n",
    "\n",
    "if(mystring3 == mystring3[::-1]):\n",
    "    print(\"It is a palindrome\")\n",
    "else:\n",
    "    print(\"It is not a palindrome\")"
   ]
  },
  {
   "cell_type": "code",
   "execution_count": 12,
   "id": "59a599e9-4726-4aab-8799-a18b68843bb4",
   "metadata": {},
   "outputs": [
    {
     "name": "stdin",
     "output_type": "stream",
     "text": [
      "Enter a string:  This is Varun Patil\n"
     ]
    },
    {
     "name": "stdout",
     "output_type": "stream",
     "text": [
      "Modified string without spaces: ThisisVarunPatil\n"
     ]
    }
   ],
   "source": [
    "# To remove whitespaces from the entered string\n",
    "\n",
    "mystring4 = input(\"Enter a string: \")\n",
    "\n",
    "modified_string = \"\"\n",
    "\n",
    "for char in mystring4:\n",
    "\n",
    "    if char != \" \":\n",
    "        modified_string += char\n",
    "\n",
    "print(\"Modified string without spaces:\", modified_string)"
   ]
  },
  {
   "cell_type": "code",
   "execution_count": null,
   "id": "b6e5b3a9-132f-4ca4-8a00-a492509ecb50",
   "metadata": {},
   "outputs": [],
   "source": []
  }
 ],
 "metadata": {
  "kernelspec": {
   "display_name": "Python 3 (ipykernel)",
   "language": "python",
   "name": "python3"
  },
  "language_info": {
   "codemirror_mode": {
    "name": "ipython",
    "version": 3
   },
   "file_extension": ".py",
   "mimetype": "text/x-python",
   "name": "python",
   "nbconvert_exporter": "python",
   "pygments_lexer": "ipython3",
   "version": "3.10.8"
  }
 },
 "nbformat": 4,
 "nbformat_minor": 5
}
